{
 "cells": [
  {
   "cell_type": "markdown",
   "id": "97f06e3e",
   "metadata": {},
   "source": [
    "## Custom Exception"
   ]
  },
  {
   "cell_type": "code",
   "execution_count": 10,
   "id": "81f6bc8b",
   "metadata": {},
   "outputs": [],
   "source": [
    "from logger.custom_logger import CustomLogger\n",
    "\n",
    "logger = CustomLogger().get_logger('exception_experiment')"
   ]
  },
  {
   "cell_type": "code",
   "execution_count": 12,
   "id": "f10ba948",
   "metadata": {},
   "outputs": [
    {
     "ename": "DocumentPortalException",
     "evalue": "\n        Error in [C:\\Users\\ashut\\AppData\\Local\\Temp\\ipykernel_14312\\2590918400.py] at line no [29]\n        Message : division by zero\n        Traceback:\n        Traceback (most recent call last):\n  File \"C:\\Users\\ashut\\AppData\\Local\\Temp\\ipykernel_14312\\2590918400.py\", line 29, in <module>\n    a = 1 / 0\n        ~~^~~\nZeroDivisionError: division by zero\n\n        ",
     "output_type": "error",
     "traceback": [
      "\u001b[31m---------------------------------------------------------------------------\u001b[39m",
      "\u001b[31mZeroDivisionError\u001b[39m                         Traceback (most recent call last)",
      "\u001b[36mCell\u001b[39m\u001b[36m \u001b[39m\u001b[32mIn[12]\u001b[39m\u001b[32m, line 29\u001b[39m\n\u001b[32m     27\u001b[39m \u001b[38;5;28;01mtry\u001b[39;00m:\n\u001b[32m     28\u001b[39m     \u001b[38;5;66;03m# Simulate an error\u001b[39;00m\n\u001b[32m---> \u001b[39m\u001b[32m29\u001b[39m     a = \u001b[32;43m1\u001b[39;49m\u001b[43m \u001b[49m\u001b[43m/\u001b[49m\u001b[43m \u001b[49m\u001b[32;43m0\u001b[39;49m\n\u001b[32m     30\u001b[39m     \u001b[38;5;28mprint\u001b[39m(a)\n",
      "\u001b[31mZeroDivisionError\u001b[39m: division by zero",
      "\nDuring handling of the above exception, another exception occurred:\n",
      "\u001b[31mDocumentPortalException\u001b[39m                   Traceback (most recent call last)",
      "\u001b[36mCell\u001b[39m\u001b[36m \u001b[39m\u001b[32mIn[12]\u001b[39m\u001b[32m, line 34\u001b[39m\n\u001b[32m     32\u001b[39m app_exc=DocumentPortalException(e,sys)\n\u001b[32m     33\u001b[39m logger.error(app_exc)\n\u001b[32m---> \u001b[39m\u001b[32m34\u001b[39m \u001b[38;5;28;01mraise\u001b[39;00m app_exc\n",
      "\u001b[31mDocumentPortalException\u001b[39m: \n        Error in [C:\\Users\\ashut\\AppData\\Local\\Temp\\ipykernel_14312\\2590918400.py] at line no [29]\n        Message : division by zero\n        Traceback:\n        Traceback (most recent call last):\n  File \"C:\\Users\\ashut\\AppData\\Local\\Temp\\ipykernel_14312\\2590918400.py\", line 29, in <module>\n    a = 1 / 0\n        ~~^~~\nZeroDivisionError: division by zero\n\n        "
     ]
    }
   ],
   "source": [
    "import sys\n",
    "import traceback\n",
    "\n",
    "class DocumentPortalException(Exception):\n",
    "    '''Custom Exception for Document Portal'''\n",
    "    def __init__(self, error_message, error_details:sys):\n",
    "        ## .exe_info() provides the complete execution detail\n",
    "        _,_,exc_tb = error_details.exc_info()\n",
    "        ## from our exception traceback we will capture the line number and file number\n",
    "        self.file_name = exc_tb.tb_frame.f_code.co_filename\n",
    "        self.line_no = exc_tb.tb_lineno\n",
    "        self.error_message = str(error_message)\n",
    "        \n",
    "        ## We will also take the complete traceback detail\n",
    "        self.traceback_str = ''.join(traceback.format_exception(*error_details.exc_info()))\n",
    "    \n",
    "    def __str__(self):\n",
    "        return f\"\"\"\n",
    "        Error in [{self.file_name}] at line no [{self.line_no}]\n",
    "        Message : {self.error_message}\n",
    "        Traceback:\n",
    "        {self.traceback_str}\n",
    "        \"\"\"\n",
    "\n",
    "\n",
    "if __name__ == \"__main__\":\n",
    "    try:\n",
    "        # Simulate an error\n",
    "        a = 1 / 0\n",
    "        print(a)\n",
    "    except Exception as e:\n",
    "        app_exc=DocumentPortalException(e,sys)\n",
    "        logger.error(app_exc)\n",
    "        raise app_exc"
   ]
  }
 ],
 "metadata": {
  "kernelspec": {
   "display_name": "Python 3",
   "language": "python",
   "name": "python3"
  },
  "language_info": {
   "codemirror_mode": {
    "name": "ipython",
    "version": 3
   },
   "file_extension": ".py",
   "mimetype": "text/x-python",
   "name": "python",
   "nbconvert_exporter": "python",
   "pygments_lexer": "ipython3",
   "version": "3.11.13"
  }
 },
 "nbformat": 4,
 "nbformat_minor": 5
}
