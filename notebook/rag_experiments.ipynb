{
 "cells": [
  {
   "cell_type": "markdown",
   "id": "f727e14d",
   "metadata": {},
   "source": [
    "## RAG Experimentation\n",
    "\n",
    "We will first write all of our code here and test it and then convert it to modular code."
   ]
  },
  {
   "cell_type": "code",
   "execution_count": 1,
   "id": "466c0078",
   "metadata": {},
   "outputs": [
    {
     "data": {
      "text/plain": [
       "True"
      ]
     },
     "execution_count": 1,
     "metadata": {},
     "output_type": "execute_result"
    }
   ],
   "source": [
    "from langchain_openai import ChatOpenAI\n",
    "from langchain_groq import ChatGroq\n",
    "from dotenv import load_dotenv\n",
    "from langchain_openai.embeddings import OpenAIEmbeddings\n",
    "from langchain_google_genai import GoogleGenerativeAIEmbeddings\n",
    "load_dotenv()"
   ]
  },
  {
   "cell_type": "code",
   "execution_count": 2,
   "id": "3093636e",
   "metadata": {},
   "outputs": [],
   "source": [
    "## intialize LLM\n",
    "groq_llm = ChatGroq(model='qwen/qwen3-32b')"
   ]
  },
  {
   "cell_type": "code",
   "execution_count": 3,
   "id": "a920e6a0",
   "metadata": {},
   "outputs": [
    {
     "data": {
      "text/plain": [
       "'<think>\\nOkay, the user is asking for the capital of \"Inida.\" First, I notice that \"Inida\" is likely a misspelling of \"India.\" India is a well-known country, so that\\'s probably the intended question. Now, I need to confirm the correct spelling and then provide the capital.\\n\\nIndia\\'s capital is New Delhi. I should make sure there are no other possible capitals, but I know that New Delhi has been the capital since 1911 when it replaced Calcutta (now Kolkata). Before that, Calcutta was the capital of British India. So, New Delhi is definitely the correct answer.\\n\\nI should also mention that \"Inida\" is a common typo and clarify the correct spelling to help the user. Maybe add a brief note about the history of the capital to provide context. Let me check if there\\'s any other city that could be confused, but I don\\'t think so. So, the answer is New Delhi, India, with a friendly correction about the spelling.\\n</think>\\n\\nThe capital of India is **New Delhi**. It appears you may have meant \"India\" (with a capital \"I\") instead of \"Inida.\" New Delhi has been the capital of India since 1911, when it replaced Kolkata (formerly Calcutta) as the administrative center of British India. Let me know if you\\'d like more details! 😊'"
      ]
     },
     "execution_count": 3,
     "metadata": {},
     "output_type": "execute_result"
    }
   ],
   "source": [
    "groq_llm.invoke('What is capital of Inida').content"
   ]
  },
  {
   "cell_type": "code",
   "execution_count": 4,
   "id": "69d6f867",
   "metadata": {},
   "outputs": [],
   "source": [
    "## Embedding model\n",
    "google_embedding_model = GoogleGenerativeAIEmbeddings(model='models/embedding-001')"
   ]
  },
  {
   "cell_type": "code",
   "execution_count": 5,
   "id": "e763131d",
   "metadata": {},
   "outputs": [
    {
     "data": {
      "text/plain": [
       "768"
      ]
     },
     "execution_count": 5,
     "metadata": {},
     "output_type": "execute_result"
    }
   ],
   "source": [
    "embedding = google_embedding_model.embed_query('What is the capital of India?')\n",
    "len(embedding)"
   ]
  },
  {
   "cell_type": "markdown",
   "id": "ef0c07bf",
   "metadata": {},
   "source": [
    "## RAG\n",
    "\n",
    "### 1. Data Ingestion"
   ]
  },
  {
   "cell_type": "code",
   "execution_count": 6,
   "id": "8d7881d8",
   "metadata": {},
   "outputs": [
    {
     "data": {
      "text/plain": [
       "True"
      ]
     },
     "execution_count": 6,
     "metadata": {},
     "output_type": "execute_result"
    }
   ],
   "source": [
    "from langchain.document_loaders import PyPDFLoader\n",
    "from langchain.text_splitter import RecursiveCharacterTextSplitter\n",
    "import os\n",
    "from dotenv import load_dotenv\n",
    "load_dotenv()"
   ]
  },
  {
   "cell_type": "code",
   "execution_count": 7,
   "id": "837ba5db",
   "metadata": {},
   "outputs": [],
   "source": [
    "file_path = os.path.join(os.getcwd(),'data','sample.pdf')\n",
    "pdf_loader = PyPDFLoader(file_path=file_path)"
   ]
  },
  {
   "cell_type": "code",
   "execution_count": 8,
   "id": "5ee782d3",
   "metadata": {},
   "outputs": [
    {
     "data": {
      "text/plain": [
       "77"
      ]
     },
     "execution_count": 8,
     "metadata": {},
     "output_type": "execute_result"
    }
   ],
   "source": [
    "documents = pdf_loader.load()\n",
    "len(documents)"
   ]
  },
  {
   "cell_type": "code",
   "execution_count": 15,
   "id": "6dcfb787",
   "metadata": {},
   "outputs": [
    {
     "data": {
      "text/plain": [
       "dict_keys(['producer', 'creator', 'creationdate', 'author', 'keywords', 'moddate', 'ptex.fullbanner', 'subject', 'title', 'trapped', 'source', 'total_pages', 'page', 'page_label'])"
      ]
     },
     "execution_count": 15,
     "metadata": {},
     "output_type": "execute_result"
    }
   ],
   "source": [
    "documents[0].metadata.keys()"
   ]
  },
  {
   "cell_type": "code",
   "execution_count": 11,
   "id": "343e48c0",
   "metadata": {},
   "outputs": [
    {
     "name": "stdout",
     "output_type": "stream",
     "text": [
      "\n"
     ]
    }
   ],
   "source": [
    "### Output\n",
    "'''\n",
    "Document(\n",
    "    metadata={\n",
    "        'producer': 'pdfTeX-1.40.25', \n",
    "        'creator': 'LaTeX with hyperref', \n",
    "        'creationdate': '2023-07-20T00:30:36+00:00', \n",
    "        'author': '', \n",
    "        'keywords': '', \n",
    "        'moddate': '2023-07-20T00:30:36+00:00', \n",
    "        'ptex.fullbanner': 'This is pdfTeX, \n",
    "        Version 3.141592653-2.6-1.40.25 (TeX Live 2023) kpathsea version 6.3.5', \n",
    "        'subject': '', \n",
    "        'title': '', \n",
    "        'trapped': '/False', \n",
    "        'source': 'c:\\\\Users\\\\ashut\\\\OneDrive\\\\Documents\\\\study material\\\\Agentic_AI_Krish\\\\Projects\\\\document_analysis_portal\\\\notebook\\\\data\\\\sample.pdf', \n",
    "        'total_pages': 77, \n",
    "        'page': 0, \n",
    "        'page_label': '1'\n",
    "    }, \n",
    "    page_content=\n",
    "        'Llama 2: Open Foundation and Fine-Tuned Chat Models\\nHugo Touvron∗ Louis Martin† Kevin Stone†\\nPeter Albert Amjad Almahairi Yasmine Babaei Nikolay Bashlykov Soumya Batra\\nPrajjwal Bhargava Shruti Bhosale Dan Bikel Lukas Blecher Cristian Canton Ferrer Moya Chen\\nGuillem Cucurull David Esiobu Jude Fernandes Jeremy Fu Wenyin Fu Brian Fuller\\nCynthia Gao Vedanuj Goswami Naman Goyal Anthony Hartshorn Saghar Hosseini Rui Hou\\nHakan Inan Marcin Kardas Viktor Kerkez Madian Khabsa Isabel Kloumann Artem Korenev\\nPunit Singh Koura Marie-Anne Lachaux Thibaut Lavril Jenya Lee Diana Liskovich\\nYinghai Lu Yuning Mao Xavier Martinet Todor Mihaylov Pushkar Mishra\\nIgor Molybog Yixin Nie Andrew Poulton Jeremy Reizenstein Rashi Rungta Kalyan Saladi\\nAlan Schelten Ruan Silva Eric Michael Smith Ranjan Subramanian Xiaoqing Ellen Tan Binh Tang\\nRoss Taylor Adina Williams Jian Xiang Kuan Puxin Xu Zheng Yan Iliyan Zarov Yuchen Zhang\\nAngela Fan Melanie Kambadur Sharan Narang Aurelien Rodriguez Robert Stojnic\\nSergey Edunov Thomas Scialom∗\\nGenAI, Meta\\nAbstract\\nIn this work, we develop and release Llama 2, a collection of pretrained and fine-tuned\\nlarge language models (LLMs) ranging in scale from 7 billion to 70 billion parameters.\\nOur fine-tuned LLMs, calledLlama 2-Chat, are optimized for dialogue use cases. Our\\nmodels outperform open-source chat models on most benchmarks we tested, and based on\\nour human evaluations for helpfulness and safety, may be a suitable substitute for closed-\\nsource models. We provide a detailed description of our approach to fine-tuning and safety\\nimprovements ofLlama 2-Chatin order to enable the community to build on our work and\\ncontribute to the responsible development of LLMs.\\n∗Equal contribution, corresponding authors: {tscialom, htouvron}@meta.com\\n†Second author\\nContributions for all the authors can be found in Section A.1.\\narXiv:2307.09288v2  [cs.CL]  19 Jul 2023'\n",
    ")\n",
    "'''\n",
    "print()"
   ]
  },
  {
   "cell_type": "markdown",
   "id": "064a5009",
   "metadata": {},
   "source": [
    "### Chunking"
   ]
  },
  {
   "cell_type": "code",
   "execution_count": 11,
   "id": "b64ac015",
   "metadata": {},
   "outputs": [],
   "source": [
    "text_splitter = RecursiveCharacterTextSplitter(\n",
    "    chunk_size = 500,\n",
    "    chunk_overlap = 100,\n",
    "    length_function = len\n",
    ")"
   ]
  },
  {
   "cell_type": "code",
   "execution_count": 12,
   "id": "65534728",
   "metadata": {},
   "outputs": [
    {
     "data": {
      "text/plain": [
       "662"
      ]
     },
     "execution_count": 12,
     "metadata": {},
     "output_type": "execute_result"
    }
   ],
   "source": [
    "docs = text_splitter.split_documents(documents)\n",
    "len(docs)"
   ]
  },
  {
   "cell_type": "code",
   "execution_count": 13,
   "id": "b43ffa54",
   "metadata": {},
   "outputs": [
    {
     "data": {
      "text/plain": [
       "Document(metadata={'producer': 'pdfTeX-1.40.25', 'creator': 'LaTeX with hyperref', 'creationdate': '2023-07-20T00:30:36+00:00', 'author': '', 'keywords': '', 'moddate': '2023-07-20T00:30:36+00:00', 'ptex.fullbanner': 'This is pdfTeX, Version 3.141592653-2.6-1.40.25 (TeX Live 2023) kpathsea version 6.3.5', 'subject': '', 'title': '', 'trapped': '/False', 'source': 'c:\\\\Users\\\\ashut\\\\OneDrive\\\\Documents\\\\study material\\\\Agentic_AI_Krish\\\\Projects\\\\document_analysis_portal\\\\notebook\\\\data\\\\sample.pdf', 'total_pages': 77, 'page': 0, 'page_label': '1'}, page_content='Llama 2: Open Foundation and Fine-Tuned Chat Models\\nHugo Touvron∗ Louis Martin† Kevin Stone†\\nPeter Albert Amjad Almahairi Yasmine Babaei Nikolay Bashlykov Soumya Batra\\nPrajjwal Bhargava Shruti Bhosale Dan Bikel Lukas Blecher Cristian Canton Ferrer Moya Chen\\nGuillem Cucurull David Esiobu Jude Fernandes Jeremy Fu Wenyin Fu Brian Fuller\\nCynthia Gao Vedanuj Goswami Naman Goyal Anthony Hartshorn Saghar Hosseini Rui Hou\\nHakan Inan Marcin Kardas Viktor Kerkez Madian Khabsa Isabel Kloumann Artem Korenev')"
      ]
     },
     "execution_count": 13,
     "metadata": {},
     "output_type": "execute_result"
    }
   ],
   "source": [
    "docs[0]"
   ]
  },
  {
   "cell_type": "code",
   "execution_count": 14,
   "id": "1a90d91a",
   "metadata": {},
   "outputs": [
    {
     "data": {
      "text/plain": [
       "{'producer': 'pdfTeX-1.40.25',\n",
       " 'creator': 'LaTeX with hyperref',\n",
       " 'creationdate': '2023-07-20T00:30:36+00:00',\n",
       " 'author': '',\n",
       " 'keywords': '',\n",
       " 'moddate': '2023-07-20T00:30:36+00:00',\n",
       " 'ptex.fullbanner': 'This is pdfTeX, Version 3.141592653-2.6-1.40.25 (TeX Live 2023) kpathsea version 6.3.5',\n",
       " 'subject': '',\n",
       " 'title': '',\n",
       " 'trapped': '/False',\n",
       " 'source': 'c:\\\\Users\\\\ashut\\\\OneDrive\\\\Documents\\\\study material\\\\Agentic_AI_Krish\\\\Projects\\\\document_analysis_portal\\\\notebook\\\\data\\\\sample.pdf',\n",
       " 'total_pages': 77,\n",
       " 'page': 0,\n",
       " 'page_label': '1'}"
      ]
     },
     "execution_count": 14,
     "metadata": {},
     "output_type": "execute_result"
    }
   ],
   "source": [
    "docs[0].metadata"
   ]
  },
  {
   "cell_type": "markdown",
   "id": "89bd392d",
   "metadata": {},
   "source": [
    "## Vectore Store"
   ]
  },
  {
   "cell_type": "code",
   "execution_count": 16,
   "id": "1ea51ea8",
   "metadata": {},
   "outputs": [],
   "source": [
    "from langchain.vectorstores import FAISS\n",
    "\n",
    "vectore_store = FAISS.from_documents(\n",
    "    documents=docs,\n",
    "    embedding=google_embedding_model\n",
    ")"
   ]
  },
  {
   "cell_type": "markdown",
   "id": "f0b29b18",
   "metadata": {},
   "source": [
    "## Creating Retriever"
   ]
  },
  {
   "cell_type": "code",
   "execution_count": 17,
   "id": "340cdc27",
   "metadata": {},
   "outputs": [
    {
     "data": {
      "text/plain": [
       "[Document(id='0554742e-5e80-45ce-aba7-73b40769f9a2', metadata={'producer': 'pdfTeX-1.40.25', 'creator': 'LaTeX with hyperref', 'creationdate': '2023-07-20T00:30:36+00:00', 'author': '', 'keywords': '', 'moddate': '2023-07-20T00:30:36+00:00', 'ptex.fullbanner': 'This is pdfTeX, Version 3.141592653-2.6-1.40.25 (TeX Live 2023) kpathsea version 6.3.5', 'subject': '', 'title': '', 'trapped': '/False', 'source': 'c:\\\\Users\\\\ashut\\\\OneDrive\\\\Documents\\\\study material\\\\Agentic_AI_Krish\\\\Projects\\\\document_analysis_portal\\\\notebook\\\\data\\\\sample.pdf', 'total_pages': 77, 'page': 43, 'page_label': '44'}, page_content='Learning Representations, 2022.\\n44'),\n",
       " Document(id='a7d7504d-c97d-46da-8644-b44744b0a023', metadata={'producer': 'pdfTeX-1.40.25', 'creator': 'LaTeX with hyperref', 'creationdate': '2023-07-20T00:30:36+00:00', 'author': '', 'keywords': '', 'moddate': '2023-07-20T00:30:36+00:00', 'ptex.fullbanner': 'This is pdfTeX, Version 3.141592653-2.6-1.40.25 (TeX Live 2023) kpathsea version 6.3.5', 'subject': '', 'title': '', 'trapped': '/False', 'source': 'c:\\\\Users\\\\ashut\\\\OneDrive\\\\Documents\\\\study material\\\\Agentic_AI_Krish\\\\Projects\\\\document_analysis_portal\\\\notebook\\\\data\\\\sample.pdf', 'total_pages': 77, 'page': 51, 'page_label': '52'}, page_content='themodeltodiscriminatebetweensafeandunsafemodelgenerationsalsoimprovesmodelaccuracyonthree\\nsubcategories.\\n52'),\n",
       " Document(id='25d8d2fb-6804-4591-aec1-ccf6ef1d4cea', metadata={'producer': 'pdfTeX-1.40.25', 'creator': 'LaTeX with hyperref', 'creationdate': '2023-07-20T00:30:36+00:00', 'author': '', 'keywords': '', 'moddate': '2023-07-20T00:30:36+00:00', 'ptex.fullbanner': 'This is pdfTeX, Version 3.141592653-2.6-1.40.25 (TeX Live 2023) kpathsea version 6.3.5', 'subject': '', 'title': '', 'trapped': '/False', 'source': 'c:\\\\Users\\\\ashut\\\\OneDrive\\\\Documents\\\\study material\\\\Agentic_AI_Krish\\\\Projects\\\\document_analysis_portal\\\\notebook\\\\data\\\\sample.pdf', 'total_pages': 77, 'page': 73, 'page_label': '74'}, page_content='Llama 2\\n7B 0.28 0.25 0.29 0.50 0.36 0.37 0.21 0.34 0.32 0.50 0.28 0.19 0.26 0.32 0.44 0.51 0.30 0.2513B 0.24 0.25 0.35 0.50 0.41 0.36 0.24 0.39 0.35 0.48 0.31 0.18 0.27 0.34 0.46 0.66 0.35 0.2834B 0.27 0.24 0.33 0.56 0.41 0.36 0.26 0.32 0.36 0.53 0.33 0.07 0.26 0.30 0.45 0.56 0.26 0.3570B 0.31 0.29 0.35 0.51 0.41 0.45 0.27 0.34 0.40 0.52 0.36 0.12 0.28 0.31 0.45 0.65 0.33 0.20\\nFine-tuned'),\n",
       " Document(id='400d1472-cae6-4fea-9743-d9b159ab4eeb', metadata={'producer': 'pdfTeX-1.40.25', 'creator': 'LaTeX with hyperref', 'creationdate': '2023-07-20T00:30:36+00:00', 'author': '', 'keywords': '', 'moddate': '2023-07-20T00:30:36+00:00', 'ptex.fullbanner': 'This is pdfTeX, Version 3.141592653-2.6-1.40.25 (TeX Live 2023) kpathsea version 6.3.5', 'subject': '', 'title': '', 'trapped': '/False', 'source': 'c:\\\\Users\\\\ashut\\\\OneDrive\\\\Documents\\\\study material\\\\Agentic_AI_Krish\\\\Projects\\\\document_analysis_portal\\\\notebook\\\\data\\\\sample.pdf', 'total_pages': 77, 'page': 45, 'page_label': '46'}, page_content='A.1.1 Acknowledgments\\nThis work was made possible by a large group of contributors. We extend our gratitude to the following\\npeople for their assistance:\\n• Our human annotators, whose work we have shown is key to improving tuned model performance,\\nas well as internal leads who organized annotations and quality control: Eric Alamillo, Tamara\\nBest, Debanjali Bose, Adam Kelsey, Meghan Keneally, Rebecca Kogen, Catalina Mejiia, Elisabeth')]"
      ]
     },
     "execution_count": 17,
     "metadata": {},
     "output_type": "execute_result"
    }
   ],
   "source": [
    "relevant_doc = vectore_store.similarity_search(\"llama2 finetuning bechmark experiment\")\n",
    "relevant_doc"
   ]
  },
  {
   "cell_type": "code",
   "execution_count": 28,
   "id": "22d58b25",
   "metadata": {},
   "outputs": [
    {
     "data": {
      "text/plain": [
       "Document(id='1ab7fe95-49e9-4978-9d27-dca62e7a73cd', metadata={'producer': 'pdfTeX-1.40.25', 'creator': 'LaTeX with hyperref', 'creationdate': '2023-07-20T00:30:36+00:00', 'author': '', 'keywords': '', 'moddate': '2023-07-20T00:30:36+00:00', 'ptex.fullbanner': 'This is pdfTeX, Version 3.141592653-2.6-1.40.25 (TeX Live 2023) kpathsea version 6.3.5', 'subject': '', 'title': '', 'trapped': '/False', 'source': 'c:\\\\Users\\\\ashut\\\\OneDrive\\\\Documents\\\\study material\\\\Agentic_AI_Krish\\\\Projects\\\\document_analysis_portal\\\\notebook\\\\data\\\\sample.pdf', 'total_pages': 77, 'page': 43, 'page_label': '44'}, page_content='Learning Representations, 2022.\\n44')"
      ]
     },
     "execution_count": 28,
     "metadata": {},
     "output_type": "execute_result"
    }
   ],
   "source": [
    "relevant_doc[0]"
   ]
  },
  {
   "cell_type": "code",
   "execution_count": 29,
   "id": "96f4818a",
   "metadata": {},
   "outputs": [
    {
     "data": {
      "text/plain": [
       "{'producer': 'pdfTeX-1.40.25',\n",
       " 'creator': 'LaTeX with hyperref',\n",
       " 'creationdate': '2023-07-20T00:30:36+00:00',\n",
       " 'author': '',\n",
       " 'keywords': '',\n",
       " 'moddate': '2023-07-20T00:30:36+00:00',\n",
       " 'ptex.fullbanner': 'This is pdfTeX, Version 3.141592653-2.6-1.40.25 (TeX Live 2023) kpathsea version 6.3.5',\n",
       " 'subject': '',\n",
       " 'title': '',\n",
       " 'trapped': '/False',\n",
       " 'source': 'c:\\\\Users\\\\ashut\\\\OneDrive\\\\Documents\\\\study material\\\\Agentic_AI_Krish\\\\Projects\\\\document_analysis_portal\\\\notebook\\\\data\\\\sample.pdf',\n",
       " 'total_pages': 77,\n",
       " 'page': 43,\n",
       " 'page_label': '44'}"
      ]
     },
     "execution_count": 29,
     "metadata": {},
     "output_type": "execute_result"
    }
   ],
   "source": [
    "relevant_doc[0].metadata"
   ]
  },
  {
   "cell_type": "code",
   "execution_count": 30,
   "id": "1f7268fb",
   "metadata": {},
   "outputs": [
    {
     "data": {
      "text/plain": [
       "{'producer': 'pdfTeX-1.40.25',\n",
       " 'creator': 'LaTeX with hyperref',\n",
       " 'creationdate': '2023-07-20T00:30:36+00:00',\n",
       " 'author': '',\n",
       " 'keywords': '',\n",
       " 'moddate': '2023-07-20T00:30:36+00:00',\n",
       " 'ptex.fullbanner': 'This is pdfTeX, Version 3.141592653-2.6-1.40.25 (TeX Live 2023) kpathsea version 6.3.5',\n",
       " 'subject': '',\n",
       " 'title': '',\n",
       " 'trapped': '/False',\n",
       " 'source': 'c:\\\\Users\\\\ashut\\\\OneDrive\\\\Documents\\\\study material\\\\Agentic_AI_Krish\\\\Projects\\\\document_analysis_portal\\\\notebook\\\\data\\\\sample.pdf',\n",
       " 'total_pages': 77,\n",
       " 'page': 43,\n",
       " 'page_label': '44'}"
      ]
     },
     "execution_count": 30,
     "metadata": {},
     "output_type": "execute_result"
    }
   ],
   "source": [
    "relevant_doc[0].metadata"
   ]
  },
  {
   "cell_type": "markdown",
   "id": "33880da4",
   "metadata": {},
   "source": [
    "## Creating Retirver"
   ]
  },
  {
   "cell_type": "code",
   "execution_count": 18,
   "id": "99c56891",
   "metadata": {},
   "outputs": [],
   "source": [
    "retriever = vectore_store.as_retriever(search_kwargs = {\"k\":10})"
   ]
  },
  {
   "cell_type": "code",
   "execution_count": 19,
   "id": "14c65148",
   "metadata": {},
   "outputs": [
    {
     "data": {
      "text/plain": [
       "[Document(id='0554742e-5e80-45ce-aba7-73b40769f9a2', metadata={'producer': 'pdfTeX-1.40.25', 'creator': 'LaTeX with hyperref', 'creationdate': '2023-07-20T00:30:36+00:00', 'author': '', 'keywords': '', 'moddate': '2023-07-20T00:30:36+00:00', 'ptex.fullbanner': 'This is pdfTeX, Version 3.141592653-2.6-1.40.25 (TeX Live 2023) kpathsea version 6.3.5', 'subject': '', 'title': '', 'trapped': '/False', 'source': 'c:\\\\Users\\\\ashut\\\\OneDrive\\\\Documents\\\\study material\\\\Agentic_AI_Krish\\\\Projects\\\\document_analysis_portal\\\\notebook\\\\data\\\\sample.pdf', 'total_pages': 77, 'page': 43, 'page_label': '44'}, page_content='Learning Representations, 2022.\\n44'),\n",
       " Document(id='a7d7504d-c97d-46da-8644-b44744b0a023', metadata={'producer': 'pdfTeX-1.40.25', 'creator': 'LaTeX with hyperref', 'creationdate': '2023-07-20T00:30:36+00:00', 'author': '', 'keywords': '', 'moddate': '2023-07-20T00:30:36+00:00', 'ptex.fullbanner': 'This is pdfTeX, Version 3.141592653-2.6-1.40.25 (TeX Live 2023) kpathsea version 6.3.5', 'subject': '', 'title': '', 'trapped': '/False', 'source': 'c:\\\\Users\\\\ashut\\\\OneDrive\\\\Documents\\\\study material\\\\Agentic_AI_Krish\\\\Projects\\\\document_analysis_portal\\\\notebook\\\\data\\\\sample.pdf', 'total_pages': 77, 'page': 51, 'page_label': '52'}, page_content='themodeltodiscriminatebetweensafeandunsafemodelgenerationsalsoimprovesmodelaccuracyonthree\\nsubcategories.\\n52'),\n",
       " Document(id='400d1472-cae6-4fea-9743-d9b159ab4eeb', metadata={'producer': 'pdfTeX-1.40.25', 'creator': 'LaTeX with hyperref', 'creationdate': '2023-07-20T00:30:36+00:00', 'author': '', 'keywords': '', 'moddate': '2023-07-20T00:30:36+00:00', 'ptex.fullbanner': 'This is pdfTeX, Version 3.141592653-2.6-1.40.25 (TeX Live 2023) kpathsea version 6.3.5', 'subject': '', 'title': '', 'trapped': '/False', 'source': 'c:\\\\Users\\\\ashut\\\\OneDrive\\\\Documents\\\\study material\\\\Agentic_AI_Krish\\\\Projects\\\\document_analysis_portal\\\\notebook\\\\data\\\\sample.pdf', 'total_pages': 77, 'page': 45, 'page_label': '46'}, page_content='A.1.1 Acknowledgments\\nThis work was made possible by a large group of contributors. We extend our gratitude to the following\\npeople for their assistance:\\n• Our human annotators, whose work we have shown is key to improving tuned model performance,\\nas well as internal leads who organized annotations and quality control: Eric Alamillo, Tamara\\nBest, Debanjali Bose, Adam Kelsey, Meghan Keneally, Rebecca Kogen, Catalina Mejiia, Elisabeth'),\n",
       " Document(id='278992a4-cbfa-49bc-a60c-a695d4c6e874', metadata={'producer': 'pdfTeX-1.40.25', 'creator': 'LaTeX with hyperref', 'creationdate': '2023-07-20T00:30:36+00:00', 'author': '', 'keywords': '', 'moddate': '2023-07-20T00:30:36+00:00', 'ptex.fullbanner': 'This is pdfTeX, Version 3.141592653-2.6-1.40.25 (TeX Live 2023) kpathsea version 6.3.5', 'subject': '', 'title': '', 'trapped': '/False', 'source': 'c:\\\\Users\\\\ashut\\\\OneDrive\\\\Documents\\\\study material\\\\Agentic_AI_Krish\\\\Projects\\\\document_analysis_portal\\\\notebook\\\\data\\\\sample.pdf', 'total_pages': 77, 'page': 37, 'page_label': '38'}, page_content='learning from human preferences.Advances in neural information processing systems, 30, 2017.\\nHyung Won Chung, Le Hou, S. Longpre, Barret Zoph, Yi Tay, William Fedus, Eric Li, Xuezhi Wang, Mostafa\\nDehghani, Siddhartha Brahma, Albert Webson, Shixiang Shane Gu, Zhuyun Dai, Mirac Suzgun, Xinyun\\nChen,AakankshaChowdhery,DashaValter,SharanNarang,GauravMishra,AdamsWeiYu,VincentZhao,\\nYanping Huang, Andrew M. Dai, Hongkun Yu, Slav Petrov, Ed Huai hsin Chi, Jeff Dean, Jacob Devlin,\\n38'),\n",
       " Document(id='59266d09-0400-40da-838b-dcb86e60ef97', metadata={'producer': 'pdfTeX-1.40.25', 'creator': 'LaTeX with hyperref', 'creationdate': '2023-07-20T00:30:36+00:00', 'author': '', 'keywords': '', 'moddate': '2023-07-20T00:30:36+00:00', 'ptex.fullbanner': 'This is pdfTeX, Version 3.141592653-2.6-1.40.25 (TeX Live 2023) kpathsea version 6.3.5', 'subject': '', 'title': '', 'trapped': '/False', 'source': 'c:\\\\Users\\\\ashut\\\\OneDrive\\\\Documents\\\\study material\\\\Agentic_AI_Krish\\\\Projects\\\\document_analysis_portal\\\\notebook\\\\data\\\\sample.pdf', 'total_pages': 77, 'page': 37, 'page_label': '38'}, page_content='DaveCummings,MatthiasPlappert,FotiosChantzis,ElizabethBarnes,ArielHerbert-Voss,WilliamHebgen\\nGuss, Alex Nichol, Alex Paino, Nikolas Tezak, Jie Tang, Igor Babuschkin, Suchir Balaji, Shantanu Jain,\\nWilliam Saunders, Christopher Hesse, Andrew N. Carr, Jan Leike, Josh Achiam, Vedant Misra, Evan\\nMorikawa, Alec Radford, Matthew Knight, Miles Brundage, Mira Murati, Katie Mayer, Peter Welinder,\\nBob McGrew, Dario Amodei, Sam McCandlish, Ilya Sutskever, and Wojciech Zaremba. Evaluating large'),\n",
       " Document(id='8143c765-1af5-419b-b556-5b19f5720efa', metadata={'producer': 'pdfTeX-1.40.25', 'creator': 'LaTeX with hyperref', 'creationdate': '2023-07-20T00:30:36+00:00', 'author': '', 'keywords': '', 'moddate': '2023-07-20T00:30:36+00:00', 'ptex.fullbanner': 'This is pdfTeX, Version 3.141592653-2.6-1.40.25 (TeX Live 2023) kpathsea version 6.3.5', 'subject': '', 'title': '', 'trapped': '/False', 'source': 'c:\\\\Users\\\\ashut\\\\OneDrive\\\\Documents\\\\study material\\\\Agentic_AI_Krish\\\\Projects\\\\document_analysis_portal\\\\notebook\\\\data\\\\sample.pdf', 'total_pages': 77, 'page': 72, 'page_label': '73'}, page_content='Llama 2\\n7B 0.15 0.30 0.12 0.35 0.25 0.43 0.18 0.38 0.16 0.12 0.29 -0.1313B 0.14 0.35 0.23 0.29 0.23 0.57 0.20 0.52 0.22 0.12 0.29 -0.1734B 0.12 0.16 0.18 0.36 0.35 0.52 0.10 0.54 0.28 0.11 0.30 -0.1970B 0.16 0.21 0.17 0.35 0.30 0.60 0.18 0.67 0.26 0.12 0.30 -0.10\\nFine-tuned\\nChatGPT 0.15 0.22 0.05 0.24 0.31 0.35 0.09 0.42 0.19 0.09 0.23 0.06MPT-instruct 7B 0.13 0.29 0.12 0.34 0.35 0.53 0.28 0.56 0.27 0.02 0.32 -0.12Falcon-instruct 7B 0.11 0.21 0.21 0.28 0.34 0.23 0.31 0.45 0.23 0.22 0.29 -0.27'),\n",
       " Document(id='25d8d2fb-6804-4591-aec1-ccf6ef1d4cea', metadata={'producer': 'pdfTeX-1.40.25', 'creator': 'LaTeX with hyperref', 'creationdate': '2023-07-20T00:30:36+00:00', 'author': '', 'keywords': '', 'moddate': '2023-07-20T00:30:36+00:00', 'ptex.fullbanner': 'This is pdfTeX, Version 3.141592653-2.6-1.40.25 (TeX Live 2023) kpathsea version 6.3.5', 'subject': '', 'title': '', 'trapped': '/False', 'source': 'c:\\\\Users\\\\ashut\\\\OneDrive\\\\Documents\\\\study material\\\\Agentic_AI_Krish\\\\Projects\\\\document_analysis_portal\\\\notebook\\\\data\\\\sample.pdf', 'total_pages': 77, 'page': 73, 'page_label': '74'}, page_content='Llama 2\\n7B 0.28 0.25 0.29 0.50 0.36 0.37 0.21 0.34 0.32 0.50 0.28 0.19 0.26 0.32 0.44 0.51 0.30 0.2513B 0.24 0.25 0.35 0.50 0.41 0.36 0.24 0.39 0.35 0.48 0.31 0.18 0.27 0.34 0.46 0.66 0.35 0.2834B 0.27 0.24 0.33 0.56 0.41 0.36 0.26 0.32 0.36 0.53 0.33 0.07 0.26 0.30 0.45 0.56 0.26 0.3570B 0.31 0.29 0.35 0.51 0.41 0.45 0.27 0.34 0.40 0.52 0.36 0.12 0.28 0.31 0.45 0.65 0.33 0.20\\nFine-tuned'),\n",
       " Document(id='227b68df-7259-4a79-a367-661d569dcab0', metadata={'producer': 'pdfTeX-1.40.25', 'creator': 'LaTeX with hyperref', 'creationdate': '2023-07-20T00:30:36+00:00', 'author': '', 'keywords': '', 'moddate': '2023-07-20T00:30:36+00:00', 'ptex.fullbanner': 'This is pdfTeX, Version 3.141592653-2.6-1.40.25 (TeX Live 2023) kpathsea version 6.3.5', 'subject': '', 'title': '', 'trapped': '/False', 'source': 'c:\\\\Users\\\\ashut\\\\OneDrive\\\\Documents\\\\study material\\\\Agentic_AI_Krish\\\\Projects\\\\document_analysis_portal\\\\notebook\\\\data\\\\sample.pdf', 'total_pages': 77, 'page': 70, 'page_label': '71'}, page_content='7B 0.41 0.32 0.28 0.46\\n13B 0.40 0.32 0.26 0.45\\n33B 0.39 0.32 0.26 0.46\\n65B 0.41 0.34 0.27 0.44\\nLlama 2\\n7B 0.38 0.33 0.27 0.43\\n13B 0.42 0.31 0.28 0.45\\n34B 0.40 0.34 0.28 0.42\\n70B 0.42 0.34 0.28 0.52\\nFine-tuned\\nChatGPT 0.18 0.16 0.15 0.19\\nMPT-instruct 7B 0.38 0.32 0.29 0.32\\nFalcon-instruct 7B 0.40 0.34 0.30 0.36\\nLlama 2-Chat\\n7B 0.55 0.43 0.40 0.49\\n13B 0.51 0.40 0.38 0.49\\n34B 0.46 0.40 0.35 0.39\\n70B 0.51 0.43 0.40 0.49'),\n",
       " Document(id='28211029-7cff-4a65-b616-6f89ba72e44d', metadata={'producer': 'pdfTeX-1.40.25', 'creator': 'LaTeX with hyperref', 'creationdate': '2023-07-20T00:30:36+00:00', 'author': '', 'keywords': '', 'moddate': '2023-07-20T00:30:36+00:00', 'ptex.fullbanner': 'This is pdfTeX, Version 3.141592653-2.6-1.40.25 (TeX Live 2023) kpathsea version 6.3.5', 'subject': '', 'title': '', 'trapped': '/False', 'source': 'c:\\\\Users\\\\ashut\\\\OneDrive\\\\Documents\\\\study material\\\\Agentic_AI_Krish\\\\Projects\\\\document_analysis_portal\\\\notebook\\\\data\\\\sample.pdf', 'total_pages': 77, 'page': 73, 'page_label': '74'}, page_content='Fine-tuned\\nChatGPT 0.65 0.62 0.64 0.84 0.77 0.75 0.53 0.71 0.73 0.75 0.73 0.54 0.55 0.69 0.71 0.82 0.57 0.57MPT-instruct 7B 0.22 0.19 0.28 0.44 0.27 0.26 0.19 0.28 0.30 0.46 0.24 0.05 0.20 0.39 0.33 0.48 0.20 0.19Falcon-instruct 7B 0.36 0.31 0.48 0.62 0.48 0.45 0.31 0.47 0.40 0.57 0.43 0.19 0.30 0.56 0.47 0.63 0.49 0.48\\nLlama 2-Chat'),\n",
       " Document(id='dfea5dc6-1be3-4224-b2fd-8aff25d3319f', metadata={'producer': 'pdfTeX-1.40.25', 'creator': 'LaTeX with hyperref', 'creationdate': '2023-07-20T00:30:36+00:00', 'author': '', 'keywords': '', 'moddate': '2023-07-20T00:30:36+00:00', 'ptex.fullbanner': 'This is pdfTeX, Version 3.141592653-2.6-1.40.25 (TeX Live 2023) kpathsea version 6.3.5', 'subject': '', 'title': '', 'trapped': '/False', 'source': 'c:\\\\Users\\\\ashut\\\\OneDrive\\\\Documents\\\\study material\\\\Agentic_AI_Krish\\\\Projects\\\\document_analysis_portal\\\\notebook\\\\data\\\\sample.pdf', 'total_pages': 77, 'page': 0, 'page_label': '1'}, page_content='contribute to the responsible development of LLMs.\\n∗Equal contribution, corresponding authors: {tscialom, htouvron}@meta.com\\n†Second author\\nContributions for all the authors can be found in Section A.1.\\narXiv:2307.09288v2  [cs.CL]  19 Jul 2023')]"
      ]
     },
     "execution_count": 19,
     "metadata": {},
     "output_type": "execute_result"
    }
   ],
   "source": [
    "retriever.invoke('google_embedding_model')"
   ]
  },
  {
   "cell_type": "code",
   "execution_count": 20,
   "id": "804e0768",
   "metadata": {},
   "outputs": [],
   "source": [
    "prompt_template = \"\"\"\n",
    "        Answer the question based on the context provided below. \n",
    "        If the context does not contain sufficient information, respond with: \n",
    "        \"I do not have enough information about this.\"\n",
    "\n",
    "        Context: {context}\n",
    "\n",
    "        Question: {question}\n",
    "\n",
    "        Answer:\"\"\""
   ]
  },
  {
   "cell_type": "code",
   "execution_count": 21,
   "id": "c9c56afd",
   "metadata": {},
   "outputs": [],
   "source": [
    "from langchain.prompts import PromptTemplate\n",
    "from langchain_core.output_parsers import StrOutputParser\n",
    "\n",
    "prompt = PromptTemplate(\n",
    "    template=prompt_template,\n",
    "    input_variables=['context','question']\n",
    ")\n",
    "\n",
    "parser = StrOutputParser()\n",
    "\n",
    "def format_docs(docs):\n",
    "    return \"\\n\\n\".join([doc.page_content for doc in docs])"
   ]
  },
  {
   "cell_type": "code",
   "execution_count": 22,
   "id": "953d1c35",
   "metadata": {},
   "outputs": [],
   "source": [
    "from langchain_core.runnables import RunnablePassthrough"
   ]
  },
  {
   "cell_type": "code",
   "execution_count": 25,
   "id": "52c4702f",
   "metadata": {},
   "outputs": [],
   "source": [
    "rag_chain = (\n",
    "    {'context':retriever | format_docs,\"question\":RunnablePassthrough()}\n",
    "    | prompt\n",
    "    | groq_llm\n",
    "    | parser\n",
    ")"
   ]
  },
  {
   "cell_type": "code",
   "execution_count": null,
   "id": "3b747dbb",
   "metadata": {},
   "outputs": [
    {
     "data": {
      "text/plain": [
       "'<think>\\nOkay, the user is asking how to fine-tune a chat model. Let me look through the provided context to find relevant information.\\n\\nFirst, the context mentions several models like Llama 2, ChatGPT, MPT-instruct, and Falcon-instruct with various parameters. There are numbers associated with them, but it\\'s not clear if they\\'re performance metrics or something else. \\n\\nLooking further down, there\\'s a section about initializing reward models from pretrained chat model checkpoints. It says, \"We initialize our reward models from pretrained chat model checkpoints, as it ensures that both models benefit from knowledge acquired in pretraining.\" This seems important because using pretrained checkpoints is a common step in fine-tuning. \\n\\nAdditionally, the context references a technique called Ghost Attention (GAtt) that helps control dialogue flow over multiple turns. It also mentions safety evaluations in Section 4.2, which might be relevant for ensuring the model\\'s responses are safe after fine-tuning.\\n\\nThe document also talks about alignment with principles of helpfulness and safety, which suggests that during fine-tuning, they focus on making the model adhere to these principles. They elaborate on methods and techniques applied, emphasizing alignment.\\n\\nHowever, the context doesn\\'t provide step-by-step instructions on how to perform the fine-tuning process. It lists models and some techniques but lacks detailed procedures, data preparation steps, hyperparameters, or specific training methodologies. Since the user is asking for \"how to\" guidance, and the available info is more about results and some high-level methods without specifics, I might need to check if there\\'s enough detail here.\\n\\nGiven that the context doesn\\'t outline a clear process with actionable steps, the answer might be that there\\'s insufficient information. But there are some elements like using pretrained checkpoints and Ghost Attention. However, without more details on implementation, the answer would be limited. The user might need more comprehensive steps which aren\\'t present here.\\n</think>\\n\\nThe context mentions that reward models are initialized from pretrained chat model checkpoints to ensure both models benefit from pretraining knowledge. It also references techniques like Ghost Attention (GAtt) for controlling dialogue flow and emphasizes alignment with safety and helpfulness principles during fine-tuning. However, specific step-by-step instructions for fine-tuning chat models are not detailed in the provided context.  \\n\\n**Answer:** I do not have enough information about this.'"
      ]
     },
     "execution_count": 26,
     "metadata": {},
     "output_type": "execute_result"
    }
   ],
   "source": [
    "response = rag_chain.invoke(\"How to finetune chat model\")\n"
   ]
  },
  {
   "cell_type": "code",
   "execution_count": null,
   "id": "5f483518",
   "metadata": {},
   "outputs": [],
   "source": []
  },
  {
   "cell_type": "code",
   "execution_count": null,
   "id": "d0c27d09",
   "metadata": {},
   "outputs": [],
   "source": []
  },
  {
   "cell_type": "code",
   "execution_count": null,
   "id": "0438cd80",
   "metadata": {},
   "outputs": [],
   "source": []
  },
  {
   "cell_type": "code",
   "execution_count": null,
   "id": "07ff94ff",
   "metadata": {},
   "outputs": [],
   "source": []
  },
  {
   "cell_type": "code",
   "execution_count": null,
   "id": "f20030b7",
   "metadata": {},
   "outputs": [],
   "source": []
  }
 ],
 "metadata": {
  "kernelspec": {
   "display_name": "Python 3",
   "language": "python",
   "name": "python3"
  },
  "language_info": {
   "codemirror_mode": {
    "name": "ipython",
    "version": 3
   },
   "file_extension": ".py",
   "mimetype": "text/x-python",
   "name": "python",
   "nbconvert_exporter": "python",
   "pygments_lexer": "ipython3",
   "version": "3.11.13"
  }
 },
 "nbformat": 4,
 "nbformat_minor": 5
}
