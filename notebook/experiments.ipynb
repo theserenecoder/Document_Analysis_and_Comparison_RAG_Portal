{
 "cells": [
  {
   "cell_type": "markdown",
   "id": "f727e14d",
   "metadata": {},
   "source": [
    "## Experimentation\n",
    "\n",
    "We will first write all of our code here and test it and then convert it to modular code."
   ]
  },
  {
   "cell_type": "code",
   "execution_count": 5,
   "id": "466c0078",
   "metadata": {},
   "outputs": [
    {
     "data": {
      "text/plain": [
       "True"
      ]
     },
     "execution_count": 5,
     "metadata": {},
     "output_type": "execute_result"
    }
   ],
   "source": [
    "from langchain_openai import ChatOpenAI\n",
    "from langchain_groq import ChatGroq\n",
    "from dotenv import load_dotenv\n",
    "from langchain_openai.embeddings import OpenAIEmbeddings\n",
    "from langchain_google_genai import GoogleGenerativeAIEmbeddings\n",
    "load_dotenv()"
   ]
  },
  {
   "cell_type": "code",
   "execution_count": 2,
   "id": "3093636e",
   "metadata": {},
   "outputs": [],
   "source": [
    "## intialize LLM\n",
    "groq_llm = ChatGroq(model='qwen/qwen3-32b')"
   ]
  },
  {
   "cell_type": "code",
   "execution_count": 4,
   "id": "a920e6a0",
   "metadata": {},
   "outputs": [
    {
     "data": {
      "text/plain": [
       "'<think>\\nOkay, the user is asking for the capital of Inida. First, I need to check if \"Inida\" is a correct spelling. I think they might have misspelled \"India\". Let me confirm that.\\n\\nIndia\\'s capital is New Delhi. But wait, sometimes people confuse New Delhi with Delhi. Delhi is a city, and New Delhi is the capital within Delhi. So I should clarify that.\\n\\nI should also consider if there\\'s any other country named Inida. A quick mental check: No, there\\'s no country by that name. It\\'s likely a typo for India. \\n\\nThe user might have made a mistake in spelling, so I should address that politely. Let me make sure to mention both the correct spelling and the capital. Also, maybe provide a bit of context about New Delhi\\'s history or significance as the capital.\\n\\nWait, should I mention that India is a country in South Asia? That could be helpful for clarity. Also, note that New Delhi is part of the National Capital Territory of Delhi. Maybe include that to avoid confusion between the city and the territory.\\n\\nLet me structure the answer: Start by correcting the spelling, state the capital, add a bit about its location and significance. Keep it concise but informative. Make sure to check for any other possible misunderstandings, like if the user thought Inida was a different country, but since there\\'s no such country, it\\'s safe to proceed with the correction.\\n</think>\\n\\nIt seems there might be a small typo in your question! The correct name of the country is **India**. The capital of India is **New Delhi**. \\n\\nNew Delhi is part of the **National Capital Territory of Delhi** and serves as the political, diplomatic, and administrative center of India. It\\'s a vibrant city with a rich history, home to iconic landmarks like the **Red Fort**, **India Gate**, and **Qutub Minar**, blending ancient and modern elements. Let me know if you\\'d like more details! 😊'"
      ]
     },
     "execution_count": 4,
     "metadata": {},
     "output_type": "execute_result"
    }
   ],
   "source": [
    "groq_llm.invoke('What is capital of Inida').content"
   ]
  },
  {
   "cell_type": "code",
   "execution_count": 6,
   "id": "69d6f867",
   "metadata": {},
   "outputs": [],
   "source": [
    "## Embedding model\n",
    "google_embedding_model = GoogleGenerativeAIEmbeddings(model='models/embedding-001')"
   ]
  },
  {
   "cell_type": "code",
   "execution_count": 8,
   "id": "e763131d",
   "metadata": {},
   "outputs": [
    {
     "data": {
      "text/plain": [
       "768"
      ]
     },
     "execution_count": 8,
     "metadata": {},
     "output_type": "execute_result"
    }
   ],
   "source": [
    "embed = google_embedding_model.embed_query('What is the capital of India?')\n",
    "len(embed)"
   ]
  },
  {
   "cell_type": "code",
   "execution_count": null,
   "id": "8d7881d8",
   "metadata": {},
   "outputs": [],
   "source": []
  }
 ],
 "metadata": {
  "kernelspec": {
   "display_name": "env",
   "language": "python",
   "name": "python3"
  },
  "language_info": {
   "codemirror_mode": {
    "name": "ipython",
    "version": 3
   },
   "file_extension": ".py",
   "mimetype": "text/x-python",
   "name": "python",
   "nbconvert_exporter": "python",
   "pygments_lexer": "ipython3",
   "version": "3.11.13"
  }
 },
 "nbformat": 4,
 "nbformat_minor": 5
}
