{
 "cells": [
  {
   "cell_type": "markdown",
   "id": "93103e1b",
   "metadata": {},
   "source": [
    "# Logging"
   ]
  },
  {
   "cell_type": "code",
   "execution_count": 1,
   "id": "70630a1f",
   "metadata": {},
   "outputs": [],
   "source": [
    "import logging\n",
    "import os\n",
    "from datetime import datetime"
   ]
  },
  {
   "cell_type": "code",
   "execution_count": 2,
   "id": "f3773cd6",
   "metadata": {},
   "outputs": [],
   "source": [
    "## defininf the path of my log files\n",
    "logs_dir = os.path.join(os.getcwd(),'logs')\n",
    "## creating the directory, if exists will use that\n",
    "os.makedirs(logs_dir, exist_ok=True)"
   ]
  },
  {
   "cell_type": "code",
   "execution_count": 3,
   "id": "a3cd4010",
   "metadata": {},
   "outputs": [
    {
     "data": {
      "text/plain": [
       "'08_01_2025_19_08_07.log'"
      ]
     },
     "execution_count": 3,
     "metadata": {},
     "output_type": "execute_result"
    }
   ],
   "source": [
    "## creating the log file\n",
    "## month day year hour minute second\n",
    "LOG_FILE = f\"{datetime.now().strftime('%m_%d_%Y_%H_%M_%S.log')}\"\n",
    "LOG_FILE"
   ]
  },
  {
   "cell_type": "code",
   "execution_count": 4,
   "id": "d3e18f84",
   "metadata": {},
   "outputs": [],
   "source": [
    "LOG_FILE_PATH = os.path.join(logs_dir, LOG_FILE)"
   ]
  },
  {
   "cell_type": "code",
   "execution_count": 5,
   "id": "d1f3c7ec",
   "metadata": {},
   "outputs": [],
   "source": [
    "## defining logging basic\n",
    "logging.basicConfig(\n",
    "    filename=LOG_FILE_PATH,\n",
    "    format=\"[ %(asctime)s ] %(levelname)s %(name)s (line:%(lineno)d) - %(message)s\",\n",
    "    level=logging.INFO,\n",
    ")"
   ]
  },
  {
   "cell_type": "code",
   "execution_count": 6,
   "id": "4940628f",
   "metadata": {},
   "outputs": [],
   "source": [
    "logger = logging.getLogger('DocumentPortal')\n",
    "logger.info('This is test info')\n"
   ]
  },
  {
   "cell_type": "code",
   "execution_count": 10,
   "id": "13936219",
   "metadata": {},
   "outputs": [],
   "source": [
    "logging.shutdown()"
   ]
  },
  {
   "cell_type": "code",
   "execution_count": 8,
   "id": "0da8d2c9",
   "metadata": {},
   "outputs": [],
   "source": [
    "import structlog\n",
    "\n",
    "log = structlog.get_logger()"
   ]
  },
  {
   "cell_type": "code",
   "execution_count": 9,
   "id": "c4bb095d",
   "metadata": {},
   "outputs": [
    {
     "name": "stdout",
     "output_type": "stream",
     "text": [
      "2025-08-01 19:08:45 [info     ] User uploaded a file           filename=report.pdf user_id=123\n"
     ]
    }
   ],
   "source": [
    "log.info('User uploaded a file', user_id = 123, filename ='report.pdf')"
   ]
  },
  {
   "cell_type": "code",
   "execution_count": 13,
   "id": "2d862851",
   "metadata": {},
   "outputs": [
    {
     "name": "stdout",
     "output_type": "stream",
     "text": [
      "1\n",
      "2\n"
     ]
    }
   ],
   "source": [
    "a,b,c = [1,2,3]\n",
    "print(a)\n",
    "print(b)"
   ]
  },
  {
   "cell_type": "code",
   "execution_count": 2,
   "id": "1d6b4f8c",
   "metadata": {},
   "outputs": [
    {
     "name": "stdout",
     "output_type": "stream",
     "text": [
      "a\n",
      "b\n",
      "c\n"
     ]
    }
   ],
   "source": [
    "dct = {'a':1,'b':2,'c':3}\n",
    "for d in dct:\n",
    "    if dct[d]:\n",
    "        print(d) "
   ]
  },
  {
   "cell_type": "code",
   "execution_count": 5,
   "id": "99488515",
   "metadata": {},
   "outputs": [],
   "source": [
    "if 'c' not in dct:\n",
    "    print('d')"
   ]
  },
  {
   "cell_type": "code",
   "execution_count": null,
   "id": "d32a5d5a",
   "metadata": {},
   "outputs": [],
   "source": []
  }
 ],
 "metadata": {
  "kernelspec": {
   "display_name": "Python 3",
   "language": "python",
   "name": "python3"
  },
  "language_info": {
   "codemirror_mode": {
    "name": "ipython",
    "version": 3
   },
   "file_extension": ".py",
   "mimetype": "text/x-python",
   "name": "python",
   "nbconvert_exporter": "python",
   "pygments_lexer": "ipython3",
   "version": "3.11.13"
  }
 },
 "nbformat": 4,
 "nbformat_minor": 5
}
